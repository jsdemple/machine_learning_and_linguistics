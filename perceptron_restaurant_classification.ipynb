{
 "cells": [
  {
   "cell_type": "markdown",
   "metadata": {},
   "source": [
    "Joey Demple<br>\n",
    "Mans Hulden<br>\n",
    "Homework 3<br>\n",
    "Due 2017/10/17"
   ]
  },
  {
   "cell_type": "markdown",
   "metadata": {},
   "source": [
    "# Perceptron Training"
   ]
  },
  {
   "cell_type": "code",
   "execution_count": 1,
   "metadata": {
    "collapsed": true
   },
   "outputs": [],
   "source": [
    "import random"
   ]
  },
  {
   "cell_type": "markdown",
   "metadata": {},
   "source": [
    "# ETL"
   ]
  },
  {
   "cell_type": "code",
   "execution_count": 2,
   "metadata": {
    "collapsed": true
   },
   "outputs": [],
   "source": [
    "# Load the Training Data\n",
    "train_raw = [line.strip() for line in open('./data/hw3data/restaurant_train.txt')]"
   ]
  },
  {
   "cell_type": "code",
   "execution_count": 3,
   "metadata": {
    "collapsed": true
   },
   "outputs": [],
   "source": [
    "# Load the Testing Data\n",
    "test_raw = [line.strip() for line in open('./data/hw3data/restaurant_test.txt')]"
   ]
  },
  {
   "cell_type": "code",
   "execution_count": 4,
   "metadata": {
    "collapsed": true
   },
   "outputs": [],
   "source": [
    "# Load the Dev Data\n",
    "dev_raw = [line.strip() for line in open('./data/hw3data/restaurant_dev.txt')]"
   ]
  },
  {
   "cell_type": "markdown",
   "metadata": {},
   "source": [
    "### Vectorize the training data, test data, and dev data"
   ]
  },
  {
   "cell_type": "code",
   "execution_count": 5,
   "metadata": {
    "collapsed": true
   },
   "outputs": [],
   "source": [
    "# count of features\n",
    "feature_count = 9492\n",
    "\n",
    "# count of classes\n",
    "class_count = 3"
   ]
  },
  {
   "cell_type": "code",
   "execution_count": 6,
   "metadata": {
    "collapsed": true
   },
   "outputs": [],
   "source": [
    "def vectorize_raw_data(raw_dataset, feature_count, class_count):\n",
    "    \"\"\"\n",
    "    Parse a list of feature vectors training_data with correct \n",
    "    label first from raw data\n",
    "    Ex. [[0, [0, 1, 1...]], [1, [1, 1, 0...]], [2, [1, 0, 1...]]]\n",
    "    \n",
    "    Input, list: lines from raw txt data\n",
    "    Returns, list: list of feature vectors with their labels first\n",
    "    Ex. [[0, [0, 1, 1...]], [1, [1, 1, 0...]], [2, [1, 0, 1...]]]\"\"\"\n",
    "    \n",
    "    # list of labels, feature vectors to be returned\n",
    "    cleaned_data = []\n",
    "    \n",
    "    # Extract each feature vector from the raw training data\n",
    "    for line in raw_dataset:\n",
    "        feature_vector_raw = []\n",
    "        feature_vector_raw = [pair for pair in line.split()]\n",
    "        # pop first item, this is the class\n",
    "        class_id = int(feature_vector_raw.pop(0))\n",
    "\n",
    "        feature_dict = {}\n",
    "        for fx in feature_vector_raw:\n",
    "            pair = [int(x) for x in fx.split(':')]\n",
    "            feature_dict[pair[0]] = pair[1]\n",
    "\n",
    "        # initialize vector as all zeros\n",
    "        empty_vec = [0] * feature_count  # total number of features\n",
    "\n",
    "        # populate the vector with ones for each feature\n",
    "        for key in feature_dict:\n",
    "            empty_vec[key] = feature_dict[key]\n",
    "        feature_vector = [class_id]\n",
    "        feature_vector.append(empty_vec)\n",
    "\n",
    "        # add the vector to the training/test/dev set total\n",
    "        cleaned_data.append(feature_vector)\n",
    "    return cleaned_data\n"
   ]
  },
  {
   "cell_type": "code",
   "execution_count": 7,
   "metadata": {},
   "outputs": [],
   "source": [
    "training_data = vectorize_raw_data(train_raw, feature_count=feature_count, class_count=class_count)"
   ]
  },
  {
   "cell_type": "code",
   "execution_count": 8,
   "metadata": {},
   "outputs": [],
   "source": [
    "testing_data = vectorize_raw_data(test_raw, feature_count=feature_count, class_count=class_count)"
   ]
  },
  {
   "cell_type": "code",
   "execution_count": 9,
   "metadata": {},
   "outputs": [],
   "source": [
    "dev_data = vectorize_raw_data(test_raw, feature_count=feature_count, class_count=class_count)"
   ]
  },
  {
   "cell_type": "markdown",
   "metadata": {},
   "source": [
    "### Initialize the weight vectors as all zeros"
   ]
  },
  {
   "cell_type": "code",
   "execution_count": 10,
   "metadata": {
    "collapsed": true
   },
   "outputs": [],
   "source": [
    "w = [[0] * feature_count] * class_count"
   ]
  },
  {
   "cell_type": "markdown",
   "metadata": {},
   "source": [
    "### List of labels or classes"
   ]
  },
  {
   "cell_type": "code",
   "execution_count": 11,
   "metadata": {},
   "outputs": [],
   "source": [
    "classes = list(range(class_count))"
   ]
  },
  {
   "cell_type": "markdown",
   "metadata": {},
   "source": [
    "# Classify"
   ]
  },
  {
   "cell_type": "markdown",
   "metadata": {},
   "source": [
    "### Define the mathmatical functions that will be used"
   ]
  },
  {
   "cell_type": "markdown",
   "metadata": {},
   "source": [
    "Dot Product"
   ]
  },
  {
   "cell_type": "code",
   "execution_count": 12,
   "metadata": {
    "collapsed": true
   },
   "outputs": [],
   "source": [
    "def dotproduct(v1, v2):\n",
    "    \"\"\"\n",
    "    Get the dot product of two one-dimensional vectors\n",
    "    returns: dotproduct, int\n",
    "    \"\"\"\n",
    "    if len(v1) != len(v2):\n",
    "        return \"ERROR: Vectors must be the same length\"\n",
    "    zipped = list(zip(v1, v2))\n",
    "    return sum([i[0]*i[1] for i in zipped])"
   ]
  },
  {
   "cell_type": "markdown",
   "metadata": {},
   "source": [
    "Component Addition of Two Vectors"
   ]
  },
  {
   "cell_type": "code",
   "execution_count": 13,
   "metadata": {
    "collapsed": true
   },
   "outputs": [],
   "source": [
    "def add_vectors(v1, v2):\n",
    "    \"\"\"\n",
    "    Get the component sum of two one-dimensional vectors\n",
    "    returns: sum, int\n",
    "    \"\"\"\n",
    "    if len(v1) != len(v2):\n",
    "        return \"ERROR: Vectors must be the same length\"\n",
    "    zipped = list(zip(v1, v2))\n",
    "    return [i[0]+i[1] for i in zipped]"
   ]
  },
  {
   "cell_type": "markdown",
   "metadata": {},
   "source": [
    "Component Subtraction of Two Vectors"
   ]
  },
  {
   "cell_type": "code",
   "execution_count": 14,
   "metadata": {
    "collapsed": true
   },
   "outputs": [],
   "source": [
    "def subtract_vectors(v1, v2):\n",
    "    \"\"\"\n",
    "    Get the component difference of two one-dimensional vectors\n",
    "    returns: difference, int\n",
    "    \"\"\"\n",
    "    if len(v1) != len(v2):\n",
    "        return \"ERROR: Vectors must be the same length\"\n",
    "    zipped = list(zip(v1, v2))\n",
    "    return [i[0]-i[1] for i in zipped]"
   ]
  },
  {
   "cell_type": "markdown",
   "metadata": {},
   "source": [
    "Get the index of the highest value in a list"
   ]
  },
  {
   "cell_type": "code",
   "execution_count": 15,
   "metadata": {
    "collapsed": true
   },
   "outputs": [],
   "source": [
    "def get_max_value_index(l):\n",
    "    max_value = max(l)\n",
    "    max_index = l.index(max_value)\n",
    "    return max_index"
   ]
  },
  {
   "cell_type": "markdown",
   "metadata": {},
   "source": [
    "### Define the classification function"
   ]
  },
  {
   "cell_type": "code",
   "execution_count": 16,
   "metadata": {},
   "outputs": [],
   "source": [
    "def classify_three_class(fx,w):\n",
    "    \"\"\"\n",
    "    Returns the label with the highest dot product as the predicted label.\n",
    "    \n",
    "    Input fx: list. A feature vector \n",
    "    Input w: list of weight vectors\n",
    "    Returns: int. Predicted class label \n",
    "    \"\"\"\n",
    "    # get dot product of fx and each weight vector\n",
    "    dp0 = dotproduct(fx, w[0])\n",
    "    dp1 = dotproduct(fx, w[1])\n",
    "    dp2 = dotproduct(fx, w[2])\n",
    "    dotproducts = [dp0, dp1, dp2]\n",
    "    # check if all dot products are equal\n",
    "    if dp0 == dp1 == dp2:\n",
    "        return random.choice([0,1,2])\n",
    "    else:\n",
    "        return get_max_value_index(dotproducts)"
   ]
  },
  {
   "cell_type": "markdown",
   "metadata": {},
   "source": [
    "# Train the perceptron"
   ]
  },
  {
   "cell_type": "code",
   "execution_count": 17,
   "metadata": {},
   "outputs": [
    {
     "name": "stdout",
     "output_type": "stream",
     "text": [
      "ERRORS: 300\n",
      "ERRORS: 105\n",
      "ERRORS: 52\n",
      "ERRORS: 32\n",
      "ERRORS: 17\n",
      "ERRORS: 9\n",
      "ERRORS: 5\n",
      "ERRORS: 3\n",
      "ERRORS: 2\n",
      "ERRORS: 0\n",
      "ITERATIONS: 10\n"
     ]
    }
   ],
   "source": [
    "errors = 1\n",
    "iterations = 0\n",
    "while errors > 0:\n",
    "    errors = 0\n",
    "    for correct_label, fx in training_data:\n",
    "        predicted_label = classify_three_class(fx, w)\n",
    "        if correct_label != predicted_label:\n",
    "            w[correct_label] = add_vectors(w[correct_label], fx)\n",
    "            w[predicted_label] = subtract_vectors(w[predicted_label], fx) # subtract features from it\n",
    "            errors += 1\n",
    "    print('ERRORS:', errors)  # this number should go down\n",
    "    iterations += 1\n",
    "print('ITERATIONS:', iterations)"
   ]
  },
  {
   "cell_type": "markdown",
   "metadata": {},
   "source": [
    "# Testing"
   ]
  },
  {
   "cell_type": "code",
   "execution_count": 18,
   "metadata": {},
   "outputs": [
    {
     "data": {
      "text/plain": [
       "500"
      ]
     },
     "execution_count": 18,
     "metadata": {},
     "output_type": "execute_result"
    }
   ],
   "source": [
    "testing_observations_count = len(testing_data)\n",
    "# print(testing_observations_count)"
   ]
  },
  {
   "cell_type": "code",
   "execution_count": 19,
   "metadata": {},
   "outputs": [
    {
     "name": "stdout",
     "output_type": "stream",
     "text": [
      "ERRORS: 59\n",
      "ACCURACY: 0.882\n"
     ]
    }
   ],
   "source": [
    "errors = 0\n",
    "for correct_label, fx in testing_data:\n",
    "    predicted_label = classify_three_class(fx, w)\n",
    "    if correct_label != predicted_label:\n",
    "        errors += 1\n",
    "print('ERRORS:', errors)\n",
    "print('ACCURACY:', (testing_observations_count - errors) / testing_observations_count)"
   ]
  },
  {
   "cell_type": "code",
   "execution_count": null,
   "metadata": {
    "collapsed": true
   },
   "outputs": [],
   "source": []
  }
 ],
 "metadata": {
  "kernelspec": {
   "display_name": "data_science_general",
   "language": "python",
   "name": "data_science_general"
  },
  "language_info": {
   "codemirror_mode": {
    "name": "ipython",
    "version": 3
   },
   "file_extension": ".py",
   "mimetype": "text/x-python",
   "name": "python",
   "nbconvert_exporter": "python",
   "pygments_lexer": "ipython3",
   "version": "3.6.1"
  }
 },
 "nbformat": 4,
 "nbformat_minor": 2
}
